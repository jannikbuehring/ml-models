{
  "cells":[
    {
      "cell_type":"markdown",
      "source":[
        "# Abschnitt 1: ML Modelle\n",
        "\n",
        "Erstellen Sie verschiedene ML (Standard) Modelle (aber keine Neuronalen Netzwerke)zur Bearbeitung\n",
        "von gegebenen Datensätzen unter Berücksichtigung der folgenden Themengebiete:\n",
        "- Datenmanagement\n",
        "- Modelldesign\n",
        "- Training\n",
        "- Validierung & Performancebewertung\n",
        "\n",
        "\n",
        "Prinzipiell soll gezeigt werden, wie mit den in der Vorlesung und Übung dargestellten Mitteln und\n",
        "Methoden eine einfache ML Aufgabe gelöst werden kann.\n",
        "Ziel ist es, möglichst gute ML Modelle für den gegebenen Datensatz zu finden (-> Parametrierung).\n",
        "Jede Gruppe erhält einen individuellen Datensatz.\n",
        "Es gelten folgende Rahmenbedingungen:\n",
        "- Die Programmiersprache ist Python.\n",
        "- Abgabe als Datei im Python Notebook Format (.ipynb).\n",
        "- Der zu bearbeitende Datensatz muss automatisch heruntergeladen und verarbeitet werden.\n",
        "- Das Skript muss ohne Fehler in einer Google Colab Umgebung durchlaufen (evtl. auftretende\n",
        "Warnungen sind zulässig).\n",
        "- Der Quelltext muss sinnvoll dokumentiert sein.\n",
        "- Dokumentation und Erläuterungen sind im Python Notebook zu erstellen.\n",
        "- Es muss angegeben werden um welchen Typ von ML Aufgabe es sich handelt.\n",
        "- Es wird empfohlen die aus der Vorlesung bekannten Frameworks und Bibliotheken zu\n",
        "verwenden.\n",
        "- Es müssen zwei verschiedene ML Modelle entworfen, trainiert und validiert werden.\n",
        "- Dabei sind Performancewerte zu erheben.\n",
        "- Zu jedem Modell ist eine kurze Erklärung zu geben, warum man sich für dieses Modell\n",
        "entschieden hat.\n",
        "- Es müssen sinnvolle und aussagekräftige Performanceindikatoren gewählt werden (inkl.\n",
        "Begründung)."
      ],
      "metadata":{
        
      }
    },
    {
      "cell_type":"code",
      "source":[
        "#Wichtige imports\n",
        "\n",
        "import matplotlib.pyplot as plt\n",
        "import pandas as pd\n",
        "import numpy as np\n",
        "from io import BytesIO\n",
        "from zipfile import ZipFile\n",
        "from urllib.request import urlopen"
      ],
      "execution_count":0,
      "outputs":[
        
      ],
      "metadata":{
        
      }
    },
    {
      "cell_type":"code",
      "source":[
        "url = urlopen(\"https:\/\/archive.ics.uci.edu\/ml\/machine-learning-databases\/00222\/bank-additional.zip\")\n",
        "\n",
        "\n",
        "#Zipfile wird heruntergeladen und in ein DataFrame gepackt\n",
        "zipfile = ZipFile(BytesIO(url.read()))\n",
        "df = pd.read_csv(zipfile.open('bank-additional\/bank-additional-full.csv'), sep=\";\")\n",
        "\n",
        "#Set anzeigen\n",
        "df.head()"
      ],
      "execution_count":0,
      "outputs":[
        
      ],
      "metadata":{
        
      }
    },
    {
      "cell_type":"markdown",
      "source":[
        "## Datenmanagement"
      ],
      "metadata":{
        
      }
    },
    {
      "cell_type":"code",
      "source":[
        "#Überblick verschaffen\n",
        "df.describe()"
      ],
      "execution_count":0,
      "outputs":[
        {
          "data":{
            "text\/html":[
              "<div>\n",
              "<style scoped>\n",
              "    .dataframe tbody tr th:only-of-type {\n",
              "        vertical-align: middle;\n",
              "    }\n",
              "\n",
              "    .dataframe tbody tr th {\n",
              "        vertical-align: top;\n",
              "    }\n",
              "\n",
              "    .dataframe thead th {\n",
              "        text-align: right;\n",
              "    }\n",
              "<\/style>\n",
              "<table border=\"1\" class=\"dataframe\">\n",
              "  <thead>\n",
              "    <tr style=\"text-align: right;\">\n",
              "      <th><\/th>\n",
              "      <th>age<\/th>\n",
              "      <th>duration<\/th>\n",
              "      <th>campaign<\/th>\n",
              "      <th>pdays<\/th>\n",
              "      <th>previous<\/th>\n",
              "      <th>emp.var.rate<\/th>\n",
              "      <th>cons.price.idx<\/th>\n",
              "      <th>cons.conf.idx<\/th>\n",
              "      <th>euribor3m<\/th>\n",
              "      <th>nr.employed<\/th>\n",
              "    <\/tr>\n",
              "  <\/thead>\n",
              "  <tbody>\n",
              "    <tr>\n",
              "      <th>count<\/th>\n",
              "      <td>41188.00000<\/td>\n",
              "      <td>41188.000000<\/td>\n",
              "      <td>41188.000000<\/td>\n",
              "      <td>41188.000000<\/td>\n",
              "      <td>41188.000000<\/td>\n",
              "      <td>41188.000000<\/td>\n",
              "      <td>41188.000000<\/td>\n",
              "      <td>41188.000000<\/td>\n",
              "      <td>41188.000000<\/td>\n",
              "      <td>41188.000000<\/td>\n",
              "    <\/tr>\n",
              "    <tr>\n",
              "      <th>mean<\/th>\n",
              "      <td>40.02406<\/td>\n",
              "      <td>258.285010<\/td>\n",
              "      <td>2.567593<\/td>\n",
              "      <td>962.475454<\/td>\n",
              "      <td>0.172963<\/td>\n",
              "      <td>0.081886<\/td>\n",
              "      <td>93.575664<\/td>\n",
              "      <td>-40.502600<\/td>\n",
              "      <td>3.621291<\/td>\n",
              "      <td>5167.035911<\/td>\n",
              "    <\/tr>\n",
              "    <tr>\n",
              "      <th>std<\/th>\n",
              "      <td>10.42125<\/td>\n",
              "      <td>259.279249<\/td>\n",
              "      <td>2.770014<\/td>\n",
              "      <td>186.910907<\/td>\n",
              "      <td>0.494901<\/td>\n",
              "      <td>1.570960<\/td>\n",
              "      <td>0.578840<\/td>\n",
              "      <td>4.628198<\/td>\n",
              "      <td>1.734447<\/td>\n",
              "      <td>72.251528<\/td>\n",
              "    <\/tr>\n",
              "    <tr>\n",
              "      <th>min<\/th>\n",
              "      <td>17.00000<\/td>\n",
              "      <td>0.000000<\/td>\n",
              "      <td>1.000000<\/td>\n",
              "      <td>0.000000<\/td>\n",
              "      <td>0.000000<\/td>\n",
              "      <td>-3.400000<\/td>\n",
              "      <td>92.201000<\/td>\n",
              "      <td>-50.800000<\/td>\n",
              "      <td>0.634000<\/td>\n",
              "      <td>4963.600000<\/td>\n",
              "    <\/tr>\n",
              "    <tr>\n",
              "      <th>25%<\/th>\n",
              "      <td>32.00000<\/td>\n",
              "      <td>102.000000<\/td>\n",
              "      <td>1.000000<\/td>\n",
              "      <td>999.000000<\/td>\n",
              "      <td>0.000000<\/td>\n",
              "      <td>-1.800000<\/td>\n",
              "      <td>93.075000<\/td>\n",
              "      <td>-42.700000<\/td>\n",
              "      <td>1.344000<\/td>\n",
              "      <td>5099.100000<\/td>\n",
              "    <\/tr>\n",
              "    <tr>\n",
              "      <th>50%<\/th>\n",
              "      <td>38.00000<\/td>\n",
              "      <td>180.000000<\/td>\n",
              "      <td>2.000000<\/td>\n",
              "      <td>999.000000<\/td>\n",
              "      <td>0.000000<\/td>\n",
              "      <td>1.100000<\/td>\n",
              "      <td>93.749000<\/td>\n",
              "      <td>-41.800000<\/td>\n",
              "      <td>4.857000<\/td>\n",
              "      <td>5191.000000<\/td>\n",
              "    <\/tr>\n",
              "    <tr>\n",
              "      <th>75%<\/th>\n",
              "      <td>47.00000<\/td>\n",
              "      <td>319.000000<\/td>\n",
              "      <td>3.000000<\/td>\n",
              "      <td>999.000000<\/td>\n",
              "      <td>0.000000<\/td>\n",
              "      <td>1.400000<\/td>\n",
              "      <td>93.994000<\/td>\n",
              "      <td>-36.400000<\/td>\n",
              "      <td>4.961000<\/td>\n",
              "      <td>5228.100000<\/td>\n",
              "    <\/tr>\n",
              "    <tr>\n",
              "      <th>max<\/th>\n",
              "      <td>98.00000<\/td>\n",
              "      <td>4918.000000<\/td>\n",
              "      <td>56.000000<\/td>\n",
              "      <td>999.000000<\/td>\n",
              "      <td>7.000000<\/td>\n",
              "      <td>1.400000<\/td>\n",
              "      <td>94.767000<\/td>\n",
              "      <td>-26.900000<\/td>\n",
              "      <td>5.045000<\/td>\n",
              "      <td>5228.100000<\/td>\n",
              "    <\/tr>\n",
              "  <\/tbody>\n",
              "<\/table>\n",
              "<\/div>"
            ]
          },
          "metadata":{
            
          },
          "output_type":"display_data"
        }
      ],
      "metadata":{
        
      }
    },
    {
      "cell_type":"code",
      "source":[
        "#Auf null-values überprüfen\n",
        "df.isnull().sum()"
      ],
      "execution_count":0,
      "outputs":[
        {
          "data":{
            "text\/plain":[
              "age               0\n",
              "job               0\n",
              "marital           0\n",
              "education         0\n",
              "default           0\n",
              "housing           0\n",
              "loan              0\n",
              "contact           0\n",
              "month             0\n",
              "day_of_week       0\n",
              "duration          0\n",
              "campaign          0\n",
              "pdays             0\n",
              "previous          0\n",
              "poutcome          0\n",
              "emp.var.rate      0\n",
              "cons.price.idx    0\n",
              "cons.conf.idx     0\n",
              "euribor3m         0\n",
              "nr.employed       0\n",
              "y                 0\n",
              "dtype: int64"
            ]
          },
          "metadata":{
            
          },
          "output_type":"display_data"
        }
      ],
      "metadata":{
        
      }
    },
    {
      "cell_type":"code",
      "source":[
        "#Häufigkeiten der Werte von y ausgeben\n",
        "#Es handelt sich um einen unbalancierten Datensatz\n",
        "print(df['y'].value_counts())"
      ],
      "execution_count":0,
      "outputs":[
        {
          "name":"stdout",
          "text":[
            "no     36548\n",
            "yes     4640\n",
            "Name: y, dtype: int64\n"
          ],
          "output_type":"stream"
        }
      ],
      "metadata":{
        
      }
    },
    {
      "cell_type":"code",
      "source":[
        "#Häufigkeiten der Werte in der Spalte 'default' ausgeben\n",
        "print(df['default'].value_counts())"
      ],
      "execution_count":0,
      "outputs":[
        {
          "name":"stdout",
          "text":[
            "no         32588\n",
            "unknown     8597\n",
            "yes            3\n",
            "Name: default, dtype: int64\n"
          ],
          "output_type":"stream"
        }
      ],
      "metadata":{
        
      }
    },
    {
      "cell_type":"code",
      "source":[
        "#Die gesamte Spalte \"default\" ist nicht aussagekräftig, da wir den Wert 'unknown' zum dem Wert ändern würden, der am häufigsten vorkommt. \n",
        "#Dann würde jedoch die gesamte Spalte fast ausschließlich aus 'no' bestehen. Daher wird die Spalte 'default' komplett gelöscht.\n",
        "del df['default']"
      ],
      "execution_count":0,
      "outputs":[
        
      ],
      "metadata":{
        
      }
    },
    {
      "cell_type":"code",
      "source":[
        "#Die Spalte 'pdays' beschreibt die Anzahl der Tage, die verstrichen sind, nachdem der Kunde zuletzt von einer früheren Kampagne kontaktiert wurde.\n",
        "#Die Werte sind numerisch - 999 bedeutet, dass der Kunde zuvor nicht kontaktiert wurde\n",
        "\n",
        "#Häufigkeiten der Werte ausgeben\n",
        "print(df['pdays'].value_counts())"
      ],
      "execution_count":0,
      "outputs":[
        {
          "name":"stdout",
          "text":[
            "999    39673\n",
            "3        439\n",
            "6        412\n",
            "4        118\n",
            "9         64\n",
            "2         61\n",
            "7         60\n",
            "12        58\n",
            "10        52\n",
            "5         46\n",
            "13        36\n",
            "11        28\n",
            "1         26\n",
            "15        24\n",
            "14        20\n",
            "8         18\n",
            "0         15\n",
            "16        11\n",
            "17         8\n",
            "18         7\n",
            "19         3\n",
            "22         3\n",
            "21         2\n",
            "26         1\n",
            "20         1\n",
            "25         1\n",
            "27         1\n",
            "Name: pdays, dtype: int64\n"
          ],
          "output_type":"stream"
        }
      ],
      "metadata":{
        
      }
    },
    {
      "cell_type":"code",
      "source":[
        "#Über 39000 der ca. 41000 Kunden wurden zuvor noch nie kontaktiert. Zudem ist der numerische Wert 999 ist für die Vorhersage ungeeignet.\n",
        "#Daher entscheiden wir uns dafür, die Spalte komplett zu entfernen.\n",
        "del df['pdays']"
      ],
      "execution_count":0,
      "outputs":[
        
      ],
      "metadata":{
        
      }
    },
    {
      "cell_type":"code",
      "source":[
        "print(df['housing'].value_counts())"
      ],
      "execution_count":0,
      "outputs":[
        {
          "name":"stdout",
          "text":[
            "yes        21576\n",
            "no         18622\n",
            "unknown      990\n",
            "Name: housing, dtype: int64\n"
          ],
          "output_type":"stream"
        }
      ],
      "metadata":{
        
      }
    },
    {
      "cell_type":"code",
      "source":[
        "#Noch auf faire Verteilung ändern wenn es Zeit dafür gibt\n",
        "df['housing'].replace(to_replace=\"unknown\", value=\"yes\", inplace=True)\n",
        "print(df['housing'].value_counts())"
      ],
      "execution_count":0,
      "outputs":[
        {
          "name":"stdout",
          "text":[
            "yes    22566\n",
            "no     18622\n",
            "Name: housing, dtype: int64\n"
          ],
          "output_type":"stream"
        }
      ],
      "metadata":{
        
      }
    },
    {
      "cell_type":"code",
      "source":[
        "df['y'] = df['y'].replace(['no'], 0)\n",
        "df['y'] = df['y'].replace(['yes'], 1)\n",
        "\n",
        "# Korrelationen überprüfen\n",
        "corr = df.corr()\n",
        "corr"
      ],
      "execution_count":0,
      "outputs":[
        {
          "data":{
            "text\/html":[
              "<div>\n",
              "<style scoped>\n",
              "    .dataframe tbody tr th:only-of-type {\n",
              "        vertical-align: middle;\n",
              "    }\n",
              "\n",
              "    .dataframe tbody tr th {\n",
              "        vertical-align: top;\n",
              "    }\n",
              "\n",
              "    .dataframe thead th {\n",
              "        text-align: right;\n",
              "    }\n",
              "<\/style>\n",
              "<table border=\"1\" class=\"dataframe\">\n",
              "  <thead>\n",
              "    <tr style=\"text-align: right;\">\n",
              "      <th><\/th>\n",
              "      <th>age<\/th>\n",
              "      <th>duration<\/th>\n",
              "      <th>campaign<\/th>\n",
              "      <th>previous<\/th>\n",
              "      <th>emp.var.rate<\/th>\n",
              "      <th>cons.price.idx<\/th>\n",
              "      <th>cons.conf.idx<\/th>\n",
              "      <th>euribor3m<\/th>\n",
              "      <th>nr.employed<\/th>\n",
              "      <th>y<\/th>\n",
              "    <\/tr>\n",
              "  <\/thead>\n",
              "  <tbody>\n",
              "    <tr>\n",
              "      <th>age<\/th>\n",
              "      <td>1.000000<\/td>\n",
              "      <td>-0.000866<\/td>\n",
              "      <td>0.004594<\/td>\n",
              "      <td>0.024365<\/td>\n",
              "      <td>-0.000371<\/td>\n",
              "      <td>0.000857<\/td>\n",
              "      <td>0.129372<\/td>\n",
              "      <td>0.010767<\/td>\n",
              "      <td>-0.017725<\/td>\n",
              "      <td>0.030399<\/td>\n",
              "    <\/tr>\n",
              "    <tr>\n",
              "      <th>duration<\/th>\n",
              "      <td>-0.000866<\/td>\n",
              "      <td>1.000000<\/td>\n",
              "      <td>-0.071699<\/td>\n",
              "      <td>0.020640<\/td>\n",
              "      <td>-0.027968<\/td>\n",
              "      <td>0.005312<\/td>\n",
              "      <td>-0.008173<\/td>\n",
              "      <td>-0.032897<\/td>\n",
              "      <td>-0.044703<\/td>\n",
              "      <td>0.405274<\/td>\n",
              "    <\/tr>\n",
              "    <tr>\n",
              "      <th>campaign<\/th>\n",
              "      <td>0.004594<\/td>\n",
              "      <td>-0.071699<\/td>\n",
              "      <td>1.000000<\/td>\n",
              "      <td>-0.079141<\/td>\n",
              "      <td>0.150754<\/td>\n",
              "      <td>0.127836<\/td>\n",
              "      <td>-0.013733<\/td>\n",
              "      <td>0.135133<\/td>\n",
              "      <td>0.144095<\/td>\n",
              "      <td>-0.066357<\/td>\n",
              "    <\/tr>\n",
              "    <tr>\n",
              "      <th>previous<\/th>\n",
              "      <td>0.024365<\/td>\n",
              "      <td>0.020640<\/td>\n",
              "      <td>-0.079141<\/td>\n",
              "      <td>1.000000<\/td>\n",
              "      <td>-0.420489<\/td>\n",
              "      <td>-0.203130<\/td>\n",
              "      <td>-0.050936<\/td>\n",
              "      <td>-0.454494<\/td>\n",
              "      <td>-0.501333<\/td>\n",
              "      <td>0.230181<\/td>\n",
              "    <\/tr>\n",
              "    <tr>\n",
              "      <th>emp.var.rate<\/th>\n",
              "      <td>-0.000371<\/td>\n",
              "      <td>-0.027968<\/td>\n",
              "      <td>0.150754<\/td>\n",
              "      <td>-0.420489<\/td>\n",
              "      <td>1.000000<\/td>\n",
              "      <td>0.775334<\/td>\n",
              "      <td>0.196041<\/td>\n",
              "      <td>0.972245<\/td>\n",
              "      <td>0.906970<\/td>\n",
              "      <td>-0.298334<\/td>\n",
              "    <\/tr>\n",
              "    <tr>\n",
              "      <th>cons.price.idx<\/th>\n",
              "      <td>0.000857<\/td>\n",
              "      <td>0.005312<\/td>\n",
              "      <td>0.127836<\/td>\n",
              "      <td>-0.203130<\/td>\n",
              "      <td>0.775334<\/td>\n",
              "      <td>1.000000<\/td>\n",
              "      <td>0.058986<\/td>\n",
              "      <td>0.688230<\/td>\n",
              "      <td>0.522034<\/td>\n",
              "      <td>-0.136211<\/td>\n",
              "    <\/tr>\n",
              "    <tr>\n",
              "      <th>cons.conf.idx<\/th>\n",
              "      <td>0.129372<\/td>\n",
              "      <td>-0.008173<\/td>\n",
              "      <td>-0.013733<\/td>\n",
              "      <td>-0.050936<\/td>\n",
              "      <td>0.196041<\/td>\n",
              "      <td>0.058986<\/td>\n",
              "      <td>1.000000<\/td>\n",
              "      <td>0.277686<\/td>\n",
              "      <td>0.100513<\/td>\n",
              "      <td>0.054878<\/td>\n",
              "    <\/tr>\n",
              "    <tr>\n",
              "      <th>euribor3m<\/th>\n",
              "      <td>0.010767<\/td>\n",
              "      <td>-0.032897<\/td>\n",
              "      <td>0.135133<\/td>\n",
              "      <td>-0.454494<\/td>\n",
              "      <td>0.972245<\/td>\n",
              "      <td>0.688230<\/td>\n",
              "      <td>0.277686<\/td>\n",
              "      <td>1.000000<\/td>\n",
              "      <td>0.945154<\/td>\n",
              "      <td>-0.307771<\/td>\n",
              "    <\/tr>\n",
              "    <tr>\n",
              "      <th>nr.employed<\/th>\n",
              "      <td>-0.017725<\/td>\n",
              "      <td>-0.044703<\/td>\n",
              "      <td>0.144095<\/td>\n",
              "      <td>-0.501333<\/td>\n",
              "      <td>0.906970<\/td>\n",
              "      <td>0.522034<\/td>\n",
              "      <td>0.100513<\/td>\n",
              "      <td>0.945154<\/td>\n",
              "      <td>1.000000<\/td>\n",
              "      <td>-0.354678<\/td>\n",
              "    <\/tr>\n",
              "    <tr>\n",
              "      <th>y<\/th>\n",
              "      <td>0.030399<\/td>\n",
              "      <td>0.405274<\/td>\n",
              "      <td>-0.066357<\/td>\n",
              "      <td>0.230181<\/td>\n",
              "      <td>-0.298334<\/td>\n",
              "      <td>-0.136211<\/td>\n",
              "      <td>0.054878<\/td>\n",
              "      <td>-0.307771<\/td>\n",
              "      <td>-0.354678<\/td>\n",
              "      <td>1.000000<\/td>\n",
              "    <\/tr>\n",
              "  <\/tbody>\n",
              "<\/table>\n",
              "<\/div>"
            ]
          },
          "metadata":{
            
          },
          "output_type":"display_data"
        }
      ],
      "metadata":{
        
      }
    },
    {
      "cell_type":"code",
      "source":[
        "import seaborn as sns\n",
        "\n",
        "#Korrelationen auf Heatmap anzeigen\n",
        "mask = np.zeros_like(corr)\n",
        "mask[np.triu_indices_from(mask)] = True\n",
        "with sns.axes_style(\"white\"):\n",
        "    sns.heatmap(corr, cmap=sns.diverging_palette(20, 220, n=20), mask=mask, vmax=1, vmin=-1, square=True)"
      ],
      "execution_count":0,
      "outputs":[
        {
          "data":{
            "image\/png":"[encoded data removed]"
          },
          "metadata":{
            "image\/png":{
              "width":0,
              "height":0
            }
          },
          "output_type":"display_data"
        }
      ],
      "metadata":{
        
      }
    },
    {
      "cell_type":"code",
      "source":[
        "sns.boxplot(data=df, x=\"y\", y=\"age\")"
      ],
      "execution_count":0,
      "outputs":[
        {
          "data":{
            "text\/plain":[
              "<AxesSubplot:xlabel='y', ylabel='age'>"
            ],
            "image\/png":"[encoded data removed]"
          },
          "metadata":{
            "image\/png":{
              "width":0,
              "height":0
            }
          },
          "output_type":"display_data"
        }
      ],
      "metadata":{
        
      }
    },
    {
      "cell_type":"code",
      "source":[
        "sns.boxplot(data=df, x=\"y\", y=\"duration\")"
      ],
      "execution_count":0,
      "outputs":[
        {
          "data":{
            "text\/plain":[
              "<AxesSubplot:xlabel='y', ylabel='duration'>"
            ],
            "image\/png":"[encoded data removed]"
          },
          "metadata":{
            "image\/png":{
              "width":0,
              "height":0
            }
          },
          "output_type":"display_data"
        }
      ],
      "metadata":{
        
      }
    },
    {
      "cell_type":"code",
      "source":[
        "sns.countplot(data=df, x=\"job\", hue=\"y\")\n",
        "plt.xticks(rotation=90)\n",
        "plt.show()"
      ],
      "execution_count":0,
      "outputs":[
        {
          "data":{
            "image\/png":"[encoded data removed]"
          },
          "metadata":{
            "image\/png":{
              "width":0,
              "height":0
            }
          },
          "output_type":"display_data"
        }
      ],
      "metadata":{
        
      }
    },
    {
      "cell_type":"code",
      "source":[
        "sns.countplot(data=df, x=\"marital\", hue=\"y\")"
      ],
      "execution_count":0,
      "outputs":[
        {
          "data":{
            "text\/plain":[
              "<AxesSubplot:xlabel='marital', ylabel='count'>"
            ],
            "image\/png":"[encoded data removed]"
          },
          "metadata":{
            "image\/png":{
              "width":0,
              "height":0
            }
          },
          "output_type":"display_data"
        }
      ],
      "metadata":{
        
      }
    },
    {
      "cell_type":"code",
      "source":[
        "sns.countplot(data=df, x=\"education\", hue=\"y\")\n",
        "plt.xticks(rotation=90)\n",
        "plt.show()"
      ],
      "execution_count":0,
      "outputs":[
        {
          "data":{
            "image\/png":"[encoded data removed]"
          },
          "metadata":{
            "image\/png":{
              "width":0,
              "height":0
            }
          },
          "output_type":"display_data"
        }
      ],
      "metadata":{
        
      }
    },
    {
      "cell_type":"code",
      "source":[
        "sns.countplot(data=df, x=\"contact\", hue=\"y\")"
      ],
      "execution_count":0,
      "outputs":[
        {
          "data":{
            "text\/plain":[
              "<AxesSubplot:xlabel='contact', ylabel='count'>"
            ],
            "image\/png":"[encoded data removed]"
          },
          "metadata":{
            "image\/png":{
              "width":0,
              "height":0
            }
          },
          "output_type":"display_data"
        }
      ],
      "metadata":{
        
      }
    },
    {
      "cell_type":"code",
      "source":[
        "# Daten in Input und Output unterteilen (data(X) und target(y))\n",
        "\n",
        "X = df.drop(columns=['y'])\n",
        "y = df[\"y\"]\n",
        "\n",
        "# https:\/\/stackoverflow.com\/questions\/34007308\/linear-regression-analysis-with-string-categorical-features-variables\n",
        "# Die kategorischen Features (z.B. job, marital, ...) müssen zu Zahlen konvertiert werden\n",
        "\n",
        "X = pd.get_dummies(data=X)"
      ],
      "execution_count":0,
      "outputs":[
        
      ],
      "metadata":{
        
      }
    },
    {
      "cell_type":"code",
      "source":[
        "print(X.shape)\n",
        "print(y.shape)"
      ],
      "execution_count":0,
      "outputs":[
        {
          "name":"stdout",
          "text":[
            "(41188, 58)\n",
            "(41188,)\n"
          ],
          "output_type":"stream"
        }
      ],
      "metadata":{
        
      }
    },
    {
      "cell_type":"code",
      "source":[
        "# Aufteilung der Daten in Training und Test\n",
        "\n",
        "from sklearn.model_selection import train_test_split\n",
        "\n",
        "# Testdaten sind 20%, Trainingsdaten sind 80% der Gesamtdaten\n",
        "X_train, X_test, y_train, y_test = train_test_split(X, y, test_size = 0.2) \n",
        "\n",
        "# Führe die Skalierung durch 1) Trainingsdaten & 2) Anwendungsdaten (unbekannte Daten)\n",
        "#X_scaled = scaler.transform(X_train)\n",
        "#X_unknown_scaled = scaler.transform(X_test) # Transformation gemäß den Trainingsdaten"
      ],
      "execution_count":0,
      "outputs":[
        
      ],
      "metadata":{
        
      }
    },
    {
      "cell_type":"code",
      "source":[
        "#Prüfen der Dimensionen\n",
        "\n",
        "print(\"Größe der Trainingsdaten:\\t\", X_train.shape,\"\\t==>\\t\",y_train.shape)\n",
        "print(\"Größe der Testdaten:\\t\\t\", X_test.shape,\"\\t==>\\t\",y_test.shape)\n",
        "print(\"Größe aller Daten:\\t\\t\", X.shape,\"\\t==>\\t\",y.shape)"
      ],
      "execution_count":0,
      "outputs":[
        {
          "name":"stdout",
          "text":[
            "Größe der Trainingsdaten:\t (32950, 58) \t==>\t (32950,)\n",
            "Größe der Testdaten:\t\t (8238, 58) \t==>\t (8238,)\n",
            "Größe aller Daten:\t\t (41188, 58) \t==>\t (41188,)\n"
          ],
          "output_type":"stream"
        }
      ],
      "metadata":{
        
      }
    },
    {
      "cell_type":"markdown",
      "source":[
        "## Modelldesign, Training und Validierung"
      ],
      "metadata":{
        
      }
    },
    {
      "cell_type":"code",
      "source":[
        "# Bibliotheken für Performanceindikatoren\n",
        "from sklearn.metrics import accuracy_score\n",
        "from sklearn.metrics import precision_score\n",
        "from sklearn.metrics import f1_score\n",
        "from sklearn.metrics import recall_score\n",
        "from sklearn.model_selection import cross_val_score\n",
        "\n",
        "def calculate_performance_metrics(y_test, y_pred):\n",
        "    # Performanceindikatoren berechnen und ausgeben\n",
        "    my_accuracy_score = accuracy_score(y_test,y_pred)\n",
        "    my_precision_score = precision_score(y_test, y_pred)\n",
        "    my_f1_score = f1_score(y_test, y_pred)\n",
        "    my_recall_score = recall_score(y_test, y_pred)\n",
        "    print(\"Test Performance Metrics:\")\n",
        "    print(\"Accuracy: %0.2f\" % my_accuracy_score)\n",
        "    print(\"Precision: %0.2f\" % my_precision_score)\n",
        "    print(\"F1-Score: %0.2f\" % my_f1_score)\n",
        "    print(\"Recall: %0.2f\" % my_recall_score)\n",
        "    print(\"----------------\")\n",
        "    return my_accuracy_score, my_precision_score, my_f1_score, my_recall_score\n",
        "\n",
        "\n",
        "def calculate_performance_metrics_train(y_train, y_pred_train):\n",
        "    # Performanceindikatoren berechnen und ausgeben\n",
        "    my_accuracy_score = accuracy_score(y_train,y_pred_train)\n",
        "    my_precision_score = precision_score(y_train, y_pred_train)\n",
        "    my_f1_score = f1_score(y_train, y_pred_train)\n",
        "    my_recall_score = recall_score(y_train, y_pred_train)\n",
        "    print(\"Training Performance Metrics:\")\n",
        "    print(\"Accuracy: %0.2f\" % my_accuracy_score)\n",
        "    print(\"Precision: %0.2f\" % my_precision_score)\n",
        "    print(\"F1-Score: %0.2f\" % my_f1_score)\n",
        "    print(\"Recall: %0.2f\" % my_recall_score)\n",
        "    print(\"----------------\")\n",
        "    return my_accuracy_score, my_precision_score, my_f1_score, my_recall_score"
      ],
      "execution_count":0,
      "outputs":[
        
      ],
      "metadata":{
        
      }
    },
    {
      "cell_type":"markdown",
      "source":[
        "### Modell: Lineare Regression"
      ],
      "metadata":{
        
      }
    },
    {
      "cell_type":"markdown",
      "source":[
        "Die lineare Regression ist für diesen Datensatz nicht geeignet, da beim vorhandenen Datensatz eine Klassifikation angewendet werden sollte, diese aber durch lineare Regression nicht möglich ist. Mit der linearen Regression werden numerische Werte berechnet."
      ],
      "metadata":{
        
      }
    },
    {
      "cell_type":"code",
      "source":[
        "from sklearn.preprocessing import LabelBinarizer\n",
        "from sklearn.ensemble import RandomForestClassifier\n",
        "from sklearn.model_selection import train_test_split, GridSearchCV, StratifiedKFold\n",
        "from sklearn.metrics import roc_curve, precision_recall_curve, auc, make_scorer, recall_score, accuracy_score, precision_score, confusion_matrix\n",
        "\n",
        "def grid_search_wrapper(clf ,refit_score, param_grid, scorers):\n",
        "    \"\"\"\n",
        "    fits a GridSearchCV classifier using refit_score for optimization\n",
        "    prints classifier performance metrics\n",
        "    \"\"\"\n",
        "    print(\"Starting Grid search...\")\n",
        "    skf = StratifiedKFold(n_splits=10)\n",
        "    grid_search = GridSearchCV(clf, param_grid, scoring=scorers, refit=refit_score,\n",
        "                           cv=skf, return_train_score=True, n_jobs=-1)\n",
        "    grid_search.fit(X_train.values, y_train.values)\n",
        "\n",
        "    # make the predictions\n",
        "    y_pred = grid_search.predict(X_test.values)\n",
        "\n",
        "    print('Best params for {}'.format(refit_score))\n",
        "    print(grid_search.best_params_)\n",
        "\n",
        "    # confusion matrix on the test data.\n",
        "    # print('\\nConfusion matrix of Random Forest optimized for {} on the test data:'.format(refit_score))\n",
        "    # print(pd.DataFrame(confusion_matrix(y_test, y_pred),\n",
        "    #              columns=['pred_neg', 'pred_pos'], index=['neg', 'pos']))\n",
        "    return grid_search"
      ],
      "execution_count":0,
      "outputs":[
        
      ],
      "metadata":{
        
      }
    },
    {
      "cell_type":"markdown",
      "source":[
        "### Modell: Gaussian Naive Bayes\n",
        "\n",
        "Gaussian Naive Bayes hat etwas mit bedingter Wahrscheinlichkeit zu tun. Naive Bayes wird deswegen als naiv bezeichnet, weil davon ausgegangen wird, dass alle Parameter unabhängig voneinander sind. Dies macht für unser Beispiel jedoch nur bedingt Sinn. Beim Gaussian Naive Bayes werden die Wahrscheinlichkeiten unter der Gauss-Verteilung betrachtet"
      ],
      "metadata":{
        
      }
    },
    {
      "cell_type":"code",
      "source":[
        "# Lade Bibliothek\n",
        "from sklearn.naive_bayes import GaussianNB\n",
        "\n",
        "nb_clf = GaussianNB()\n",
        "\n",
        "param_grid = {\n",
        "    'priors': [0.1, 0.2, 0.3, 0.4, 0.5, 0.6, 0.7, 0.8, 0.9], \n",
        "    'var_smoothing' : [0.0000000001, 0.000000001, 0.00000001, 0.0000001]\n",
        "}\n",
        "\n",
        "scorers = {\n",
        "    'precision_score': make_scorer(precision_score),\n",
        "    'recall_score': make_scorer(recall_score),\n",
        "    'accuracy_score': make_scorer(accuracy_score)\n",
        "}\n",
        "\n",
        "#nb_grid = grid_search_wrapper(nb_clf, 'recall_score')\n",
        "\n",
        "\n",
        "# Trainiere\n",
        "nb_clf.fit(X_train, y_train)\n",
        "\n",
        "# Vorhersage mit Trainingsdaten\n",
        "y_pred_nb_train = nb_clf.predict(X_train)\n",
        "\n",
        "# Vorhersage mit Testdaten\n",
        "y_prediction_nb = nb_clf.predict(X_test)\n",
        "\n",
        "# Analysiere\n",
        "#print(\"Anzahl der falsch zugeordneten Klassen: %d (bei %d Datensätze)\" % ((y_test != y_prediction_nb).sum(), X_test.shape[0]))\n",
        "\n",
        "accuracy_score_nb_train, precision_score_nb_train, f1_score_nb_train, recall_score_nb_train = calculate_performance_metrics_train(y_train, y_pred_nb_train)\n",
        "\n",
        "accuracy_score_nb, precision_score_nb, f1_score_nb, recall_score_nb = calculate_performance_metrics(y_test, y_prediction_nb)\n",
        "\n",
        "scores = cross_val_score(nb_clf, X_train, y_train, cv=5, scoring='recall')\n",
        "\n",
        "print(\"Average recall score: \", scores.mean())"
      ],
      "execution_count":0,
      "outputs":[
        {
          "name":"stdout",
          "text":[
            "Training Performance Metrics:\n",
            "Accuracy: 0.86\n",
            "Precision: 0.41\n",
            "F1-Score: 0.46\n",
            "Recall: 0.53\n",
            "----------------\n",
            "Test Performance Metrics:\n",
            "Accuracy: 0.86\n",
            "Precision: 0.42\n",
            "F1-Score: 0.46\n",
            "Recall: 0.50\n",
            "----------------\n",
            "Average recall score:  0.5302693055350302\n"
          ],
          "output_type":"stream"
        }
      ],
      "metadata":{
        
      }
    },
    {
      "cell_type":"markdown",
      "source":[
        "### Modell: SGDClassifier\n",
        "\n",
        "Stochastic Gradient Descent ist dann von Bedeutung, wenn Redundanzen (Cluster) in den Daten auftreten. Sehr stark wenn es viele Daten mit vielen Parametern gibt"
      ],
      "metadata":{
        
      }
    },
    {
      "cell_type":"code",
      "source":[
        "# Lade Bibliothek\n",
        "from sklearn.linear_model import SGDClassifier\n",
        "\n",
        "# Erstelle Instanz\n",
        "sgd_class = SGDClassifier(loss=\"hinge\")\n",
        "\n",
        "# Training\n",
        "sgd_class.fit(X_train, y_train)\n",
        "\n",
        "# Vorhersage mit Trainingsdaten\n",
        "y_pred_sgd_train = sgd_class.predict(X_train)\n",
        "\n",
        "# Vorhersage\n",
        "y_prediction_sgd = sgd_class.predict(X_test)\n",
        "\n",
        "# Analysiere\n",
        "# print(\"Anzahl der falsch zugeordneten Klassen: %d (bei %d Datensätze)\" % ((y_test != y_prediction_sgd).sum(), X_test.shape[0]))\n",
        "\n",
        "accuracy_score_sgd_train, precision_score_sgd_train, f1_score_sgd_train, recall_score_sgd_train = calculate_performance_metrics_train(y_train, y_pred_sgd_train)\n",
        "\n",
        "accuracy_score_sgd, precision_score_sgd, f1_score_sgd, recall_score_sgd = calculate_performance_metrics(y_test, y_prediction_sgd)\n",
        "\n",
        "scores = cross_val_score(sgd_class, X_train, y_train, cv=5, scoring='recall')\n",
        "\n",
        "print(\"Average recall score: \", scores.mean())"
      ],
      "execution_count":0,
      "outputs":[
        {
          "name":"stdout",
          "text":[
            "Training Performance Metrics:\n",
            "Accuracy: 0.89\n",
            "Precision: 0.64\n",
            "F1-Score: 0.18\n",
            "Recall: 0.10\n",
            "----------------\n",
            "Test Performance Metrics:\n",
            "Accuracy: 0.88\n",
            "Precision: 0.64\n",
            "F1-Score: 0.20\n",
            "Recall: 0.12\n",
            "----------------\n",
            "Average recall score:  0.44444166562460924\n"
          ],
          "output_type":"stream"
        }
      ],
      "metadata":{
        
      }
    },
    {
      "cell_type":"markdown",
      "source":[
        "### Modell: Logistische Regression\n",
        "\n",
        "Logistische Regression sagt vorher, ob etwas wahr oder falsch ist. -> sehr passend für unseren Anwendungsfall.\n",
        "Ist dann Anwendbar, wenn die Regressoren keine hohe Multikollinearität aufweisen. "
      ],
      "metadata":{
        
      }
    },
    {
      "cell_type":"code",
      "source":[
        "# Lade Bibliothek\n",
        "from sklearn.linear_model import LogisticRegression\n",
        "\n",
        "# Erstelle Instanz -> max_iter begründen\n",
        "log_reg = LogisticRegression(max_iter=5000)\n",
        "\n",
        "# Trainiere\n",
        "log_reg.fit(X_train,y_train)\n",
        "\n",
        "# Vorhersage auf Trainingsdaten\n",
        "y_pred_log_train = log_reg.predict(X_train)\n",
        "\n",
        "# Vorhersage auf Validierungsdaten\n",
        "y_pred_log = log_reg.predict(X_test)\n",
        "\n",
        "# Analysiere gelernte Parameter\n",
        "b = log_reg.intercept_\n",
        "w = log_reg.coef_\n",
        "\n",
        "accuracy_score_log_train, precision_score_log_train, f1_score_log_train, recall_score_log_train = calculate_performance_metrics_train(y_train, y_pred_log_train)\n",
        "\n",
        "accuracy_score_log, precision_score_log, f1_score_log, recall_score_log = calculate_performance_metrics(y_test, y_pred_log)\n",
        "\n",
        "scores = cross_val_score(log_reg, X_train, y_train, cv=5, scoring='recall')\n",
        "\n",
        "print(\"Average recall score: \", scores.mean())"
      ],
      "execution_count":0,
      "outputs":[
        {
          "name":"stdout",
          "text":[
            "Training Performance Metrics:\n",
            "Accuracy: 0.91\n",
            "Precision: 0.68\n",
            "F1-Score: 0.51\n",
            "Recall: 0.41\n",
            "----------------\n",
            "Test Performance Metrics:\n",
            "Accuracy: 0.90\n",
            "Precision: 0.66\n",
            "F1-Score: 0.48\n",
            "Recall: 0.38\n",
            "----------------\n",
            "Average recall score:  0.4127748663324504\n"
          ],
          "output_type":"stream"
        }
      ],
      "metadata":{
        
      }
    },
    {
      "cell_type":"code",
      "source":[
        "# Lade Bibliothek\n",
        "from sklearn.ensemble import RandomForestClassifier\n",
        "\n",
        "# Erstelle Instanz\n",
        "rf = RandomForestClassifier()\n",
        "\n",
        "# Trainiere\n",
        "rf.fit(X_train, y_train)\n",
        "\n",
        "# Vorhersage auf Trainingsdaten\n",
        "y_pred_rf_train = rf.predict(X_train)\n",
        "\n",
        "# Vorhersage auf Validierungsdaten\n",
        "y_pred_rf = rf.predict(X_test)\n",
        "\n",
        "# Performancemetriken berechnen\n",
        "accuracy_score_rf_train, precision_score_rf_train, f1_score_rf_train, recall_score_rf_train = calculate_performance_metrics_train(y_train, y_pred_rf_train)\n",
        "\n",
        "accuracy_score_rf, precision_score_rf, f1_score_rf, recall_score_rf = calculate_performance_metrics(y_test, y_pred_rf)\n",
        "\n",
        "scores = cross_val_score(rf, X_train, y_train, cv=5, scoring='recall')\n",
        "\n",
        "print(\"Average recall score: \", scores.mean())\n",
        "\n",
        "param_grid = {\n",
        "    'min_samples_split': [3, 5, 10], \n",
        "    'n_estimators' : [100, 300],\n",
        "    'max_depth': [3, 5, 15, 25],\n",
        "    'max_features': [3, 5, 10, 20]\n",
        "}\n",
        "\n",
        "scorers = {\n",
        "    'precision_score': make_scorer(precision_score),\n",
        "    'recall_score': make_scorer(recall_score),\n",
        "    'accuracy_score': make_scorer(accuracy_score)\n",
        "}\n",
        "\n",
        "grid_search_rf = grid_search_wrapper(rf, 'recall_score', param_grid, scorers)"
      ],
      "execution_count":0,
      "outputs":[
        {
          "name":"stdout",
          "text":[
            "Training Performance Metrics:\n",
            "Accuracy: 1.00\n",
            "Precision: 1.00\n",
            "F1-Score: 1.00\n",
            "Recall: 1.00\n",
            "----------------\n",
            "Test Performance Metrics:\n",
            "Accuracy: 0.92\n",
            "Precision: 0.68\n",
            "F1-Score: 0.57\n",
            "Recall: 0.49\n",
            "----------------\n",
            "Average recall score:  0.4532819053871685\n"
          ],
          "output_type":"stream"
        }
      ],
      "metadata":{
        
      }
    },
    {
      "cell_type":"markdown",
      "source":[
        "## Performancebewertung:"
      ],
      "metadata":{
        
      }
    },
    {
      "cell_type":"markdown",
      "source":[
        "### Confusion Matrix"
      ],
      "metadata":{
        
      }
    },
    {
      "cell_type":"code",
      "source":[
        "# Subplots initialisieren\n",
        "fig, (ax1, ax2, ax3, ax4) = plt.subplots(1,4, figsize=(20,5))\n",
        "\n",
        "# Confusion Matrix erstellen\n",
        "confusion_matrix_nb = pd.crosstab(y_test, y_prediction_nb, rownames=['Actual'], colnames=['Predicted'])\n",
        "confusion_matrix_log = pd.crosstab(y_test, y_pred_log, rownames=['Actual'], colnames=['Predicted'])\n",
        "confusion_matrix_sgd = pd.crosstab(y_test, y_prediction_sgd, rownames=['Actual'], colnames=['Predicted'])\n",
        "confusion_matrix_rf = pd.crosstab(y_test, y_pred_rf, rownames=['Actual'], colnames=['Predicted'])\n",
        "\n",
        "# In Heatmap anzeigen\n",
        "sns.heatmap(confusion_matrix_nb, annot=True, fmt=\"d\", ax=ax1)\n",
        "sns.heatmap(confusion_matrix_log, annot=True, fmt=\"d\", ax=ax2)\n",
        "sns.heatmap(confusion_matrix_sgd, annot=True, fmt=\"d\", ax=ax3)\n",
        "sns.heatmap(confusion_matrix_rf, annot=True, fmt=\"d\", ax=ax4)\n",
        "\n",
        "# Titel für Subplots\n",
        "ax1.title.set_text(\"Naive Bayes\")\n",
        "ax2.title.set_text(\"Logistische Regression\")\n",
        "ax3.title.set_text(\"SGDClassifier\")\n",
        "ax4.title.set_text(\"RandomForest\")\n",
        "\n",
        "plt.show()"
      ],
      "execution_count":0,
      "outputs":[
        {
          "data":{
            "image\/png":"[encoded data removed]"
          },
          "metadata":{
            "image\/png":{
              "width":0,
              "height":0
            }
          },
          "output_type":"display_data"
        }
      ],
      "metadata":{
        
      }
    },
    {
      "cell_type":"markdown",
      "source":[
        "Die Anzahl der false negatives ist in diesem Modell ziemlich hoch. Das bedeutet, wenn die Bank nur die Kunden anruft, bei denen das Modell 1 vorhersagt, gehen viele potentielle Kunden (falsch negative) verloren. Deswegen ist es bei dieser Aufgabe besonders wichtig, einen hohen Recall-Wert zu erhalten. Es ist in diesem Fall nicht so schlimm, mehr false positives zu erhalten, da diese zwar einen extra Anruf kosten, aber dadurch keine potetiellen Kunden verloren werden."
      ],
      "metadata":{
        
      }
    },
    {
      "cell_type":"markdown",
      "source":[
        "### Accuracy, Precision, Recall, F-Score\n",
        "\n",
        "https:\/\/medium.com\/analytics-vidhya\/accuracy-vs-f1-score-6258237beca2"
      ],
      "metadata":{
        
      }
    },
    {
      "cell_type":"markdown",
      "source":[
        "Die Precision ist sinnvoll, wenn die Kosten für falsch-positive hoch sind, da sie als Maß für die korrekt positiven vorhergesagten Fälle aus allen positiven Fällen herangezogen wird. Sie ergibt sich aus: (TP) \/ (TP + FP).\n",
        "\n",
        "Der Recall wird wichtig, sobald die Kosten für falsch-negative hoch sind. Der Wert ergibt sich durch die korrekt vorhergesagten positiven Fälle aus allen tatsächlich positiven Fällen. Er ergibt sich aus: (TP) \/ (TP + FN).\n",
        "\n",
        "Die Accuracy steht für alle korrekt identifizierten Fälle. Sie wird verwendet, wenn alle Klassen gleich wichtig sind. Sie ergibt sich aus: (TP + TN) \/ (TP + FP + TN + FN).\n",
        "\n",
        "Der F1-score ist das harmonische Mittel aus Precision und Recall und gibt ein besseres Maß für die falsch klassifizierten Fälle als die Accuracy an. Er ergibt sich aus: 2 * (Precision * Recall) \/ (Precision + Recall) "
      ],
      "metadata":{
        
      }
    },
    {
      "cell_type":"code",
      "source":[
        "# Recall Werte\n",
        "print(\"[Recall] Training:\\t\", recall_score(y_train, y_pred_log_train))\n",
        "print(\"[Recall] Test:\\t\\t\", recall_score(y_test, y_pred_log))"
      ],
      "execution_count":0,
      "outputs":[
        {
          "name":"stdout",
          "text":[
            "[Recall] Training:\t 0.3928185745140389\n",
            "[Recall] Test:\t\t 0.43696581196581197\n"
          ],
          "output_type":"stream"
        }
      ],
      "metadata":{
        
      }
    },
    {
      "cell_type":"code",
      "source":[
        "# Precision Werte\n",
        "print(\"[Precision] Trainingsdaten:\\t\", precision_score(y_train, y_pred_log_train))\n",
        "print(\"[Precision] Testdaten:\\t\\t\", precision_score(y_test, y_pred_log))"
      ],
      "execution_count":0,
      "outputs":[
        {
          "name":"stdout",
          "text":[
            "[Precision] Trainingsdaten:\t 0.6637773722627737\n",
            "[Precision] Testdaten:\t\t 0.7027491408934707\n"
          ],
          "output_type":"stream"
        }
      ],
      "metadata":{
        
      }
    }
  ],
  "metadata":{
    
  },
  "nbformat":4,
  "nbformat_minor":0
}